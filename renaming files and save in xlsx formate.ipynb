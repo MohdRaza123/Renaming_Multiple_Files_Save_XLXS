{
 "cells": [
  {
   "cell_type": "code",
   "execution_count": 3,
   "id": "b157d2b2",
   "metadata": {},
   "outputs": [
    {
     "name": "stdout",
     "output_type": "stream",
     "text": [
      "Renamed: 23Jul20 103805.1.nmfs -> 4G_DATA_23Jul20 103805.1.nmfs\n",
      "Renamed: 23Jul20 103805.2.nmfs -> 3G_DATA_23Jul20 103805.2.nmfs\n",
      "Renamed: 23Jul20 112057.1.nmfs -> 4G_DATA_23Jul20 112057.1.nmfs\n",
      "Renamed: 23Jul20 112057.2.nmfs -> 3G_DATA_23Jul20 112057.2.nmfs\n",
      "Renamed: 23Jul20 113447.1.nmfs -> 4G_DATA_23Jul20 113447.1.nmfs\n",
      "Renamed: 23Jul20 113447.2.nmfs -> 3G_DATA_23Jul20 113447.2.nmfs\n",
      "Renamed: 23Jul20 115747.1.nmfs -> 4G_DATA_23Jul20 115747.1.nmfs\n",
      "Renamed: 23Jul20 115747.2.nmfs -> 3G_DATA_23Jul20 115747.2.nmfs\n",
      "Renamed: 23Jul20 125455.1.nmfs -> 4G_DATA_23Jul20 125455.1.nmfs\n",
      "Renamed: 23Jul20 125455.2.nmfs -> 3G_DATA_23Jul20 125455.2.nmfs\n"
     ]
    }
   ],
   "source": [
    "import os\n",
    "\n",
    "def rename_files(directory):\n",
    "    for filename in os.listdir(directory):\n",
    "        if filename.endswith(\".1.nmfs\"):\n",
    "            old_path = os.path.join(directory, filename)\n",
    "            new_filename = \"4G_DATA_\" + filename\n",
    "            new_path = os.path.join(directory, new_filename)\n",
    "            os.rename(old_path, new_path)\n",
    "            print(f\"Renamed: {filename} -> {new_filename}\")\n",
    "        \n",
    "        elif filename.endswith(\".2.nmfs\"):\n",
    "            old_path = os.path.join(directory, filename)\n",
    "            new_filename = \"3G_DATA_\" + filename\n",
    "            new_path = os.path.join(directory, new_filename)\n",
    "            os.rename(old_path, new_path)\n",
    "            print(f\"Renamed: {filename} -> {new_filename}\")\n",
    "\n",
    "if __name__ == \"__main__\":\n",
    "    target_directory = r\"C:\\Users\\HP\\Desktop\\3g and 4g logs\"  # Replace this with the actual directory path\n",
    "    rename_files(target_directory)\n"
   ]
  },
  {
   "cell_type": "code",
   "execution_count": 4,
   "id": "743d6a10",
   "metadata": {},
   "outputs": [
    {
     "name": "stdout",
     "output_type": "stream",
     "text": [
      "File names copied to Excel: C:\\Users\\HP\\Desktop\\3g and 4g logs\\file_names_list.xlsx\n"
     ]
    }
   ],
   "source": [
    "import os\n",
    "import pandas as pd\n",
    "\n",
    "def copy_files_to_excel(directory):\n",
    "    # Initialize a list to store the filenames\n",
    "    file_names = []\n",
    "\n",
    "    # Traverse the directory and find files with the extension \".nmfs\"\n",
    "    for filename in os.listdir(directory):\n",
    "        if filename.endswith(\".nmfs\"):\n",
    "            file_names.append(filename)\n",
    "\n",
    "    # Create a DataFrame from the list of filenames\n",
    "    df = pd.DataFrame(file_names, columns=['File Names'])\n",
    "\n",
    "    # Save the DataFrame to an Excel file in the same folder\n",
    "    excel_filename = os.path.join(directory, 'file_names_list.xlsx')\n",
    "    df.to_excel(excel_filename, index=False)\n",
    "\n",
    "    print(f\"File names copied to Excel: {excel_filename}\")\n",
    "\n",
    "if __name__ == \"__main__\":\n",
    "    target_directory = r\"C:\\Users\\HP\\Desktop\\3g and 4g logs\"  # Replace this with the actual directory path\n",
    "    copy_files_to_excel(target_directory)\n"
   ]
  },
  {
   "cell_type": "code",
   "execution_count": null,
   "id": "dcfe5c50",
   "metadata": {},
   "outputs": [],
   "source": []
  }
 ],
 "metadata": {
  "kernelspec": {
   "display_name": "Python 3 (ipykernel)",
   "language": "python",
   "name": "python3"
  },
  "language_info": {
   "codemirror_mode": {
    "name": "ipython",
    "version": 3
   },
   "file_extension": ".py",
   "mimetype": "text/x-python",
   "name": "python",
   "nbconvert_exporter": "python",
   "pygments_lexer": "ipython3",
   "version": "3.10.9"
  }
 },
 "nbformat": 4,
 "nbformat_minor": 5
}
